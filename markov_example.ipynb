{
 "cells": [
  {
   "cell_type": "code",
   "execution_count": 8,
   "metadata": {},
   "outputs": [],
   "source": [
    "import random\n",
    "\n",
    "class Markov(object):\n",
    "\n",
    "    def __init__(self, order):\n",
    "        self.graph = {}\n",
    "        self.text = None\n",
    "        self.order = order\n",
    "        self.group_size = self.order + 1\n",
    "        return\n",
    "\n",
    "    def train(self, filename):\n",
    "        self.text = open(filename,encoding= 'utf8').read().split()\n",
    "        self.text = self.text + self.text[ : self.order]\n",
    "\n",
    "        for i in range(0, len(self.text) - self.group_size):\n",
    "            \n",
    "            key = tuple(self.text[i : i + self.order])\n",
    "            value = self.text[i + self.order]\n",
    "\n",
    "            if key in self.graph:\n",
    "                self.graph[key].append(value)\n",
    "            else:\n",
    "                self.graph[key] = [value]\n",
    "        return\n",
    "\n",
    "    def generate(self,length):\n",
    "        index = random.randint(0, len(self.text) - self.order)\n",
    "        result = self.text[index : index + self.order]\n",
    "\n",
    "        for i in range(length):\n",
    "            state = tuple(result[len(result) - self.order : ])\n",
    "            next_word = random.choice(self.graph[state])\n",
    "            result.append(next_word)\n",
    "\n",
    "        return \" \".join(result[self.order : ])\n",
    "\n",
    "    def avg_value(self):\n",
    "        vals = [len(x) for x in self.graph.values()]\n",
    "        return float(sum(vals)) / len(vals)\n",
    "        \n",
    "\n",
    "def do_it(filename, order, length):\n",
    "    m = Markov(order)\n",
    "    m.train(filename)\n",
    "    print (m.generate(length))\n",
    "    return m\n"
   ]
  },
  {
   "cell_type": "code",
   "execution_count": 9,
   "metadata": {},
   "outputs": [
    {
     "name": "stdout",
     "output_type": "stream",
     "text": [
      "the fate of the country. Eight days after the goddess of the radiant orb itself lighting up the projectile,\" replied J. T. Maston, and the locomotive was plunging forward with\n",
      "by the hour together in absorbing silence. As for Passepartout, he, too, had escaped sea-sickness, and took his place on the 25th of October, and on the following day the\n",
      "actually five feet above the water. A boat came alongside, that of J. T. Maston, who exclaimed, \"It is a grand idea, however!\" When Barbicane originally proposed to send a\n",
      "ונחרם את כל הרעה אשר דיבר אליך לאמור שלח את עמי ויעבדוני כי אם צעוק יצעק אליי ושמעתי\n",
      "משה ואת מרים אחותם וייוולד לאהרון את נדב ואת אביהוא את אלעזר ואת איתמר וימת נדב ואביהוא לפני\n",
      "אלה הדברים אשר דיבר משה אל בני ישראל וייתנו אליו כל נשיאיהם מטה לנשיא אחד מטה לנשיא אחד\n"
     ]
    },
    {
     "data": {
      "text/plain": [
       "<__main__.Markov at 0x5f9ebd0>"
      ]
     },
     "execution_count": 9,
     "metadata": {},
     "output_type": "execute_result"
    }
   ],
   "source": [
    "do_it('Jules Verne book .txt', 2, 30)\n",
    "do_it('Jules Verne book .txt', 3, 30)\n",
    "do_it('Jules Verne book .txt', 4, 30)\n",
    "do_it('tanach.txt', 2, 18)\n",
    "do_it('tanach.txt', 3, 18)\n",
    "do_it('tanach.txt', 4, 18)\n"
   ]
  },
  {
   "cell_type": "code",
   "execution_count": null,
   "metadata": {},
   "outputs": [],
   "source": []
  },
  {
   "cell_type": "code",
   "execution_count": null,
   "metadata": {},
   "outputs": [],
   "source": []
  }
 ],
 "metadata": {
  "kernelspec": {
   "display_name": "Python 3",
   "language": "python",
   "name": "python3"
  },
  "language_info": {
   "codemirror_mode": {
    "name": "ipython",
    "version": 3
   },
   "file_extension": ".py",
   "mimetype": "text/x-python",
   "name": "python",
   "nbconvert_exporter": "python",
   "pygments_lexer": "ipython3",
   "version": "3.7.1"
  }
 },
 "nbformat": 4,
 "nbformat_minor": 2
}
